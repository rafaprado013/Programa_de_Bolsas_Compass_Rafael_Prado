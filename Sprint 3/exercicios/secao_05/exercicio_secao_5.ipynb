{
 "cells": [
  {
   "cell_type": "markdown",
   "metadata": {},
   "source": [
    "### ETAPA 1"
   ]
  },
  {
   "cell_type": "code",
   "execution_count": 5,
   "metadata": {},
   "outputs": [
    {
     "name": "stdout",
     "output_type": "stream",
     "text": [
      "Ator com maior numero de filmes: Robert DeNiro (79 filmes)\n"
     ]
    }
   ],
   "source": [
    "caminho_arquivo_csv = r'E:\\Exercicio_2\\actors.csv'\n",
    "\n",
    "with open(caminho_arquivo_csv, 'r', encoding='utf-8') as arquivo_csv:\n",
    "    linhas_arquivo = arquivo_csv.readlines()[1:]\n",
    "\n",
    "ator_com_mais_filmes = None\n",
    "numero_maximo_de_filmes = 0\n",
    "\n",
    "for linha in linhas_arquivo:\n",
    "    campos_dados = []\n",
    "    campo_atual = \"\"\n",
    "    dentro_de_aspas = False\n",
    "\n",
    "    for caracter_atual in linha:\n",
    "        if caracter_atual == '\"':\n",
    "            dentro_de_aspas = not dentro_de_aspas\n",
    "        elif caracter_atual == ',' and not dentro_de_aspas:\n",
    "            campos_dados.append(campo_atual.strip())\n",
    "            campo_atual = \"\"\n",
    "        else:\n",
    "            campo_atual += caracter_atual\n",
    "    campos_dados.append(campo_atual.strip())\n",
    "\n",
    "    nome_do_ator = campos_dados[0]\n",
    "    numero_de_filmes = int(campos_dados[2])\n",
    "\n",
    "    if numero_de_filmes > numero_maximo_de_filmes:\n",
    "        numero_maximo_de_filmes = numero_de_filmes\n",
    "        ator_com_mais_filmes = nome_do_ator\n",
    "\n",
    "print(f\"Ator com maior numero de filmes: {ator_com_mais_filmes} ({numero_maximo_de_filmes} filmes)\")\n"
   ]
  },
  {
   "cell_type": "markdown",
   "metadata": {},
   "source": [
    "### ETAPA 2"
   ]
  },
  {
   "cell_type": "code",
   "execution_count": 6,
   "metadata": {},
   "outputs": [
    {
     "name": "stdout",
     "output_type": "stream",
     "text": [
      "Media de receita bruta: 428.69 milhoes de dolares\n"
     ]
    }
   ],
   "source": [
    "caminho_arquivo_csv = r'E:\\Exercicio_2\\actors.csv'\n",
    "\n",
    "with open(caminho_arquivo_csv, 'r', encoding='utf-8') as arquivo_csv:\n",
    "    linhas_arquivo = arquivo_csv.readlines()[1:]\n",
    "\n",
    "receita_bruta_total = 0\n",
    "numero_de_entradas = 0\n",
    "\n",
    "for linha in linhas_arquivo:\n",
    "    campos_dados = []\n",
    "    campo_atual = \"\"\n",
    "    dentro_de_aspas = False\n",
    "\n",
    "    for caracter_atual in linha:\n",
    "        if caracter_atual == '\"':\n",
    "            dentro_de_aspas = not dentro_de_aspas\n",
    "        elif caracter_atual == ',' and not dentro_de_aspas:\n",
    "            campos_dados.append(campo_atual.strip())\n",
    "            campo_atual = \"\"\n",
    "        else:\n",
    "            campo_atual += caracter_atual\n",
    "    campos_dados.append(campo_atual.strip())\n",
    "\n",
    "    try:\n",
    "        receita_bruta = float(campos_dados[-1].replace(',', ''))\n",
    "        receita_bruta_total += receita_bruta\n",
    "        numero_de_entradas += 1\n",
    "    except ValueError:\n",
    "        pass\n",
    "\n",
    "media_receita_bruta = receita_bruta_total / numero_de_entradas if numero_de_entradas != 0 else 0\n",
    "\n",
    "print(f'Media de receita bruta: {media_receita_bruta:.2f} milhoes de dolares')\n"
   ]
  },
  {
   "cell_type": "markdown",
   "metadata": {},
   "source": [
    "### ETAPA 3"
   ]
  },
  {
   "cell_type": "code",
   "execution_count": null,
   "metadata": {},
   "outputs": [],
   "source": [
    "caminho_arquivo_csv = r'E:\\Exercicio_2\\actors.csv'\n",
    "\n",
    "with open(caminho_arquivo_csv, 'r', encoding='utf-8') as arquivo_csv:\n",
    "    linhas_arquivo = arquivo_csv.readlines()[1:]\n",
    "\n",
    "ator_com_maior_media_faturamento = None\n",
    "maior_media_faturamento = 0\n",
    "\n",
    "for linha in linhas_arquivo:\n",
    "    campos_dados = []\n",
    "    campo_atual = \"\"\n",
    "    dentro_de_aspas = False\n",
    "\n",
    "    for caracter_atual in linha:\n",
    "        if caracter_atual == '\"':\n",
    "            dentro_de_aspas = not dentro_de_aspas\n",
    "        elif caracter_atual == ',' and not dentro_de_aspas:\n",
    "            campos_dados.append(campo_atual.strip())\n",
    "            campo_atual = \"\"\n",
    "        else:\n",
    "            campo_atual += caracter_atual\n",
    "    campos_dados.append(campo_atual.strip())\n",
    "\n",
    "    nome_do_ator = campos_dados[0]\n",
    "    media_faturamento = float(campos_dados[3]) \n",
    "\n",
    "    if media_faturamento > maior_media_faturamento:\n",
    "        maior_media_faturamento = media_faturamento\n",
    "        ator_com_maior_media_faturamento = nome_do_ator\n",
    "\n",
    "print(f\"Ator com maior media de receita por filme: {ator_com_maior_media_faturamento} ({maior_media_faturamento:.2f} milhoes de dolares por filme)\")\n"
   ]
  },
  {
   "cell_type": "markdown",
   "metadata": {},
   "source": [
    "### ETAPA 4"
   ]
  },
  {
   "cell_type": "code",
   "execution_count": null,
   "metadata": {},
   "outputs": [],
   "source": [
    "caminho_arquivo_csv = r'E:\\Exercicio_2\\actors.csv'\n",
    "\n",
    "with open(caminho_arquivo_csv, 'r', encoding='utf-8') as arquivo_csv:\n",
    "    linhas_arquivo = arquivo_csv.readlines()[1:]\n",
    "\n",
    "contagem_de_filmes = {}\n",
    "\n",
    "for linha in linhas_arquivo:\n",
    "    campos_dados = []\n",
    "    campo_atual = \"\"\n",
    "    dentro_de_aspas = False\n",
    "\n",
    "    for caracter_atual in linha:\n",
    "        if caracter_atual == '\"':\n",
    "            dentro_de_aspas = not dentro_de_aspas\n",
    "        elif caracter_atual == ',' and not dentro_de_aspas:\n",
    "            campos_dados.append(campo_atual.strip())\n",
    "            campo_atual = \"\"\n",
    "        else:\n",
    "            campo_atual += caracter_atual\n",
    "    campos_dados.append(campo_atual.strip())\n",
    "\n",
    "    filme_com_maior_bilheteria = campos_dados[4]\n",
    "\n",
    "    if filme_com_maior_bilheteria in contagem_de_filmes:\n",
    "        contagem_de_filmes[filme_com_maior_bilheteria] += 1\n",
    "    else:\n",
    "        contagem_de_filmes[filme_com_maior_bilheteria] = 1\n",
    "\n",
    "filmes_ordenados = sorted(contagem_de_filmes.items(), key=lambda x: (-x[1], x[0]))\n",
    "\n",
    "with open(r'E:\\Exercicio_2\\filmes_ordenados.txt', 'w', encoding='utf-8') as arquivo_saida:\n",
    "    for filme, quantidade in filmes_ordenados:\n",
    "        arquivo_saida.write(f\"O filme {filme} aparece {quantidade} vez(es) no dataset\\n\")\n"
   ]
  },
  {
   "cell_type": "markdown",
   "metadata": {},
   "source": [
    "### ETAPA 5"
   ]
  },
  {
   "cell_type": "code",
   "execution_count": null,
   "metadata": {},
   "outputs": [],
   "source": [
    "caminho_arquivo_csv = r'E:\\Exercicio_2\\actors.csv'\n",
    "\n",
    "with open(caminho_arquivo_csv, 'r', encoding='utf-8') as arquivo_csv:\n",
    "    linhas_arquivo = arquivo_csv.readlines()[1:]\n",
    "\n",
    "receita_bruta_total = 0\n",
    "numero_de_entradas = 0\n",
    "\n",
    "for linha in linhas_arquivo:\n",
    "    campos_dados = []\n",
    "    campo_atual = \"\"\n",
    "    dentro_de_aspas = False\n",
    "\n",
    "    for caracter_atual in linha:\n",
    "        if caracter_atual == '\"':\n",
    "            dentro_de_aspas = not dentro_de_aspas\n",
    "        elif caracter_atual == ',' and not dentro_de_aspas:\n",
    "            campos_dados.append(campo_atual.strip())\n",
    "            campo_atual = \"\"\n",
    "        else:\n",
    "            campo_atual += caracter_atual\n",
    "    campos_dados.append(campo_atual.strip())\n",
    "\n",
    "    try:\n",
    "        receita_bruta = float(campos_dados[-1].replace(',', ''))\n",
    "        receita_bruta_total += receita_bruta\n",
    "        numero_de_entradas += 1\n",
    "    except ValueError:\n",
    "        pass\n",
    "\n",
    "media_receita_bruta = receita_bruta_total / numero_de_entradas if numero_de_entradas != 0 else 0\n",
    "\n",
    "print(f'Media de receita bruta: {media_receita_bruta:.2f} milhoes de dolares')\n",
    "\n",
    "atores_e_receita = []\n",
    "\n",
    "for linha in linhas_arquivo:\n",
    "    campos_dados = []\n",
    "    campo_atual = \"\"\n",
    "    dentro_de_aspas = False\n",
    "\n",
    "    for caracter_atual in linha:\n",
    "        if caracter_atual == '\"':\n",
    "            dentro_de_aspas = not dentro_de_aspas\n",
    "        elif caracter_atual == ',' and not dentro_de_aspas:\n",
    "            campos_dados.append(campo_atual.strip())\n",
    "            campo_atual = \"\"\n",
    "        else:\n",
    "            campo_atual += caracter_atual\n",
    "    campos_dados.append(campo_atual.strip())\n",
    "\n",
    "    nome_do_ator = campos_dados[0]\n",
    "    receita_total_bruta = float(campos_dados[1])\n",
    "    \n",
    "    atores_e_receita.append((nome_do_ator, receita_total_bruta))\n",
    "\n",
    "atores_ordenados_por_receita = sorted(atores_e_receita, key=lambda x: -x[1])\n",
    "\n",
    "with open(r'E:\\Exercicio_2\\atores_ordenados_receita.txt', 'w', encoding='utf-8') as arquivo_saida:\n",
    "    for ator, receita in atores_ordenados_por_receita:\n",
    "        arquivo_saida.write(f\"{ator} - {receita:.2f} milhoes de dolares\\n\")\n"
   ]
  }
 ],
 "metadata": {
  "kernelspec": {
   "display_name": "Python 3",
   "language": "python",
   "name": "python3"
  },
  "language_info": {
   "codemirror_mode": {
    "name": "ipython",
    "version": 3
   },
   "file_extension": ".py",
   "mimetype": "text/x-python",
   "name": "python",
   "nbconvert_exporter": "python",
   "pygments_lexer": "ipython3",
   "version": "3.12.6"
  }
 },
 "nbformat": 4,
 "nbformat_minor": 2
}
