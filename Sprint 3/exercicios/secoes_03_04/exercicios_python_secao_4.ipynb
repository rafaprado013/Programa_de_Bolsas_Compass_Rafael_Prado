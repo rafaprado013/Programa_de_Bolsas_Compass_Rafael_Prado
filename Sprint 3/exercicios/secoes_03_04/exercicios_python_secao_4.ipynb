{
 "cells": [
  {
   "cell_type": "markdown",
   "metadata": {},
   "source": [
    "##### EX_06"
   ]
  },
  {
   "cell_type": "code",
   "execution_count": null,
   "metadata": {},
   "outputs": [],
   "source": [
    "a = [1, 1, 2, 3, 5, 8, 14, 21, 34, 55, 89]\n",
    "b = [1, 2, 3, 4, 5, 6, 7, 8, 9, 10, 11, 12, 13, 14, 15]\n",
    "c = []\n",
    "novo_a = set(a)\n",
    "novo_b = set(b)\n",
    "for n in novo_a:\n",
    "    for x in novo_b:\n",
    "        if n == x:\n",
    "            c.append(n)\n",
    "print(c)"
   ]
  },
  {
   "cell_type": "markdown",
   "metadata": {},
   "source": [
    "##### EX_07"
   ]
  },
  {
   "cell_type": "code",
   "execution_count": null,
   "metadata": {},
   "outputs": [],
   "source": [
    "lista = []\n",
    "a = [1, 4, 9, 16, 25, 36, 49, 64, 81, 100]\n",
    "for n in a:\n",
    "    if n % 2 != 0:\n",
    "        lista.append(n)\n",
    "print(lista)\n"
   ]
  },
  {
   "cell_type": "markdown",
   "metadata": {},
   "source": [
    "##### EX_08"
   ]
  },
  {
   "cell_type": "code",
   "execution_count": null,
   "metadata": {},
   "outputs": [],
   "source": [
    "palavras = ['maça', 'arara', 'audio', 'radio', 'radar', 'moto']\n",
    "for palavra in palavras:\n",
    "    if palavra == palavra[::-1]:\n",
    "        print(f'A palavra: {palavra} é um palíndromo')\n",
    "    else:\n",
    "        print(f'A palavra: {palavra} não é um palíndromo')"
   ]
  },
  {
   "cell_type": "markdown",
   "metadata": {},
   "source": [
    "##### EX_09"
   ]
  },
  {
   "cell_type": "code",
   "execution_count": null,
   "metadata": {},
   "outputs": [],
   "source": [
    "primeirosNomes = ['Joao', 'Douglas', 'Lucas', 'José']\n",
    "sobreNomes = ['Soares', 'Souza', 'Silveira', 'Pedreira']\n",
    "idades = [19, 28, 25, 31]\n",
    "for indice, (nome, sobrenome, idade) in enumerate(zip(primeirosNomes, sobreNomes, idades)):\n",
    "    print(f'{indice} - {nome} {sobrenome} está com {idade} anos')"
   ]
  },
  {
   "cell_type": "markdown",
   "metadata": {},
   "source": [
    "##### EX_10"
   ]
  },
  {
   "cell_type": "code",
   "execution_count": null,
   "metadata": {},
   "outputs": [],
   "source": [
    "def sem_duplicacao(lista):\n",
    "    lista_unica = []\n",
    "    elementos_vistos = set()\n",
    "    for item in lista:\n",
    "        if item not in elementos_vistos:\n",
    "            lista_unica.append(item)\n",
    "            elementos_vistos.add(item)\n",
    "    return lista_unica\n",
    "\n",
    "lista = ['abc', 'abc', 'abc', '123', 'abc', '123', '123']\n",
    "print(sem_duplicacao(lista))"
   ]
  },
  {
   "cell_type": "markdown",
   "metadata": {},
   "source": [
    "##### EX_11"
   ]
  },
  {
   "cell_type": "code",
   "execution_count": null,
   "metadata": {},
   "outputs": [],
   "source": [
    "import json\n",
    "with open('person.json', 'r') as arquivo:\n",
    "    conteudo = json.load(arquivo)\n",
    "print(conteudo)"
   ]
  },
  {
   "cell_type": "markdown",
   "metadata": {},
   "source": [
    "##### EX_12"
   ]
  },
  {
   "cell_type": "code",
   "execution_count": null,
   "metadata": {},
   "outputs": [],
   "source": [
    "def f(num):\n",
    "    return num ** 2\n",
    "\n",
    "def my_map(list, funcao):\n",
    "    list2 = []\n",
    "    for elemento in list:\n",
    "        num_elevado = funcao(elemento)\n",
    "        list2.append(num_elevado)\n",
    "    return list2\n",
    "\n",
    "\n",
    "lista = [1, 2, 3, 4, 5, 6, 7, 8, 9, 10]\n",
    "resultado = my_map(lista, f)\n",
    "print(resultado)\n"
   ]
  },
  {
   "cell_type": "markdown",
   "metadata": {},
   "source": [
    "##### EX_13"
   ]
  },
  {
   "cell_type": "code",
   "execution_count": null,
   "metadata": {},
   "outputs": [],
   "source": [
    "with open('arquivo_texto.txt', 'r') as arquivo:\n",
    "    conteudo = arquivo.read()\n",
    "print(conteudo, end='')"
   ]
  },
  {
   "cell_type": "markdown",
   "metadata": {},
   "source": [
    "##### EX_14"
   ]
  },
  {
   "cell_type": "code",
   "execution_count": null,
   "metadata": {},
   "outputs": [],
   "source": [
    "def imprimir_parametros(*args, **kwargs):\n",
    "    for valor in args:\n",
    "        print(f\"{valor}\")\n",
    "    for chave, valor in kwargs.items():\n",
    "        print(valor)\n",
    "imprimir_parametros(1, 3, 4, 'hello', parametro_nomeado='alguma coisa', x=20)"
   ]
  },
  {
   "cell_type": "markdown",
   "metadata": {},
   "source": [
    "##### EX_15"
   ]
  },
  {
   "cell_type": "code",
   "execution_count": null,
   "metadata": {},
   "outputs": [],
   "source": [
    "class Lampada:\n",
    "    def __init__(self, ligada=False):\n",
    "        self.ligada = ligada\n",
    "\n",
    "    def liga(self):\n",
    "        self.ligada = True\n",
    "\n",
    "    def desliga(self):\n",
    "        self.ligada = False\n",
    "\n",
    "    def esta_ligada(self):\n",
    "        return self.ligada\n",
    "\n",
    "lampada = Lampada()\n",
    "\n",
    "lampada.liga()\n",
    "print(f'A lampada está ligada? {lampada.esta_ligada()}')\n",
    "\n",
    "lampada.desliga()\n",
    "print(f'A lampada ainda está ligada? {lampada.esta_ligada()}')"
   ]
  },
  {
   "cell_type": "markdown",
   "metadata": {},
   "source": [
    "##### EX_16"
   ]
  },
  {
   "cell_type": "code",
   "execution_count": null,
   "metadata": {},
   "outputs": [],
   "source": [
    "def soma_numeros(string):\n",
    "    string.replace('\"', '')\n",
    "    lista_str = string.split(',')\n",
    "    listando_int = [int(num) for num in lista_str]\n",
    "    return sum(listando_int)\n",
    "\n",
    "string = \"1,3,4,6,10,76\"\n",
    "\n",
    "print(soma_numeros(string))\n"
   ]
  },
  {
   "cell_type": "markdown",
   "metadata": {},
   "source": [
    "##### EX_17"
   ]
  },
  {
   "cell_type": "code",
   "execution_count": null,
   "metadata": {},
   "outputs": [],
   "source": [
    "def func(lista):\n",
    "    tam_lista = len(lista) // 3\n",
    "    lista1 = lista[:tam_lista]\n",
    "    lista2 = lista[tam_lista:2*tam_lista]\n",
    "    lista3 = lista[2*tam_lista:]\n",
    "    listas = lista1, lista2, lista3\n",
    "\n",
    "    return lista1, lista2, lista3\n",
    "\n",
    "lista = [1, 2, 3, 4, 5, 6, 7, 8, 9, 10, 11, 12]\n",
    "lista1, lista2, lista3 = func(lista)\n",
    "print(lista1, lista2, lista3)\n"
   ]
  },
  {
   "cell_type": "markdown",
   "metadata": {},
   "source": [
    "##### EX_18"
   ]
  },
  {
   "cell_type": "code",
   "execution_count": null,
   "metadata": {},
   "outputs": [],
   "source": [
    "speed = {'jan': 47, 'feb': 52, 'march': 47, 'April': 44, 'May': 52, 'June': 53, 'july': 54, 'Aug': 44, 'Sept': 54}\n",
    "lista = []\n",
    "for key, value in speed.items():\n",
    "    lista.append(value)\n",
    "lista = list(set(lista))\n",
    "print(lista)\n"
   ]
  },
  {
   "cell_type": "markdown",
   "metadata": {},
   "source": [
    "##### EX_19"
   ]
  },
  {
   "cell_type": "code",
   "execution_count": null,
   "metadata": {},
   "outputs": [],
   "source": [
    "import random\n",
    "\n",
    "random_list = random.sample(range(500), 50)\n",
    "random_list.sort()\n",
    "\n",
    "if len(random_list) % 2 == 0:\n",
    "    mediana = (random_list[len(random_list) // 2 - 1] + random_list[len(random_list) // 2]) / 2\n",
    "else:\n",
    "    mediana = random_list[len(random_list) // 2]\n",
    "\n",
    "media = sum(random_list) / len(random_list)\n",
    "valor_minimo = min(random_list)\n",
    "valor_maximo = max(random_list)\n",
    "\n",
    "print(f\"Media: {media:.2f}, Mediana: {mediana}, Mínimo: {valor_minimo}, Máximo: {valor_maximo}\")\n"
   ]
  },
  {
   "cell_type": "markdown",
   "metadata": {},
   "source": [
    "##### EX_20"
   ]
  },
  {
   "cell_type": "code",
   "execution_count": null,
   "metadata": {},
   "outputs": [],
   "source": [
    "def reverso(lista):\n",
    "    return lista[::-1]\n",
    "    \n",
    "a = [1, 0, 2, 3, 5, 8, 13, 21, 34, 55, 89]\n",
    "print(reverso(a))\n"
   ]
  },
  {
   "cell_type": "markdown",
   "metadata": {},
   "source": [
    "##### EX_21"
   ]
  },
  {
   "cell_type": "code",
   "execution_count": null,
   "metadata": {},
   "outputs": [],
   "source": [
    "class Passaro:\n",
    "    def __init__(self, som):\n",
    "        self.som = som\n",
    "\n",
    "    def voar(self):\n",
    "        return \"Voando...\"\n",
    "\n",
    "    def emitir_som(self):\n",
    "        return self.som\n",
    "\n",
    "class Pato:\n",
    "    def __init__(self):\n",
    "        self.passaro = Passaro(\"Quack Quack\")\n",
    "\n",
    "    def voar(self):\n",
    "        return self.passaro.voar()\n",
    "\n",
    "    def emitir_som(self):\n",
    "        return self.passaro.emitir_som()\n",
    "\n",
    "class Pardal:\n",
    "    def __init__(self):\n",
    "        self.passaro = Passaro(\"Piu Piu\")\n",
    "\n",
    "    def voar(self):\n",
    "        return self.passaro.voar()\n",
    "\n",
    "    def emitir_som(self):\n",
    "        return self.passaro.emitir_som()\n",
    "\n",
    "\n",
    "pato = Pato()\n",
    "print(\"Pato\")\n",
    "print(pato.voar())\n",
    "print(\"Pato emitindo som...\")\n",
    "print(pato.emitir_som())\n",
    "pardal = Pardal()\n",
    "print(\"Pardal\")\n",
    "print(pardal.voar())\n",
    "print(\"Pardal emitindo som...\")\n",
    "print(pardal.emitir_som())\n",
    "\n"
   ]
  },
  {
   "cell_type": "markdown",
   "metadata": {},
   "source": [
    "##### EX_22"
   ]
  },
  {
   "cell_type": "code",
   "execution_count": null,
   "metadata": {},
   "outputs": [],
   "source": [
    "class Pessoa:\n",
    "    def __init__(self, id):\n",
    "        self.__nome = None\n",
    "        self.id = id\n",
    "        \n",
    "    @property\n",
    "    def nome(self):\n",
    "        return self.__nome\n",
    "        \n",
    "    @nome.setter\n",
    "    def nome(self, valor):\n",
    "        self.__nome = valor\n",
    "        \n",
    "            \n",
    "    \n",
    "pessoa = Pessoa(0) \n",
    "pessoa.nome = 'Fulano De Tal'\n",
    "print(pessoa.nome)"
   ]
  },
  {
   "cell_type": "markdown",
   "metadata": {},
   "source": [
    "##### EX_23"
   ]
  },
  {
   "cell_type": "code",
   "execution_count": null,
   "metadata": {},
   "outputs": [],
   "source": [
    "class Calculo:\n",
    "    def __init__(self, x, y):\n",
    "        self.x = x\n",
    "        self.y = y\n",
    "        \n",
    "    def soma(self):\n",
    "        return self.x + self.y\n",
    "        \n",
    "    def subtracao(self):\n",
    "        return self.x-self.y\n",
    "        \n",
    "x=4\n",
    "y=5\n",
    "variaveis = Calculo(x,y)\n",
    "print(f'Somando: {x} + {y} = {variaveis.soma()}')\n",
    "print(f'Subtraindo: {x} + {y} = {variaveis.subtracao()}')\n"
   ]
  },
  {
   "cell_type": "markdown",
   "metadata": {},
   "source": [
    "##### EX_24"
   ]
  },
  {
   "cell_type": "code",
   "execution_count": null,
   "metadata": {},
   "outputs": [],
   "source": [
    "class Ordenadora:\n",
    "    def __init__(self, listaBaguncada):\n",
    "        self.listaBaguncada = listaBaguncada\n",
    "        \n",
    "\n",
    "    def ordenacaoCrescente(self):\n",
    "        self.listaBaguncada.sort()\n",
    "        return self.listaBaguncada\n",
    "\n",
    "    def ordenacaoDecrescente(self):\n",
    "        self.listaBaguncada.sort()\n",
    "        return self.listaBaguncada[::-1]\n",
    "        \n",
    "        \n",
    "crescente =   Ordenadora([3,4,2,1,5])  \n",
    "decrescente = Ordenadora([9,7,6,8])\n",
    "\n",
    "\n",
    "ordCresc = crescente.ordenacaoCrescente()\n",
    "ordDecres = decrescente.ordenacaoDecrescente()\n",
    "print(crescente)\n",
    "print(decrescente)"
   ]
  },
  {
   "cell_type": "markdown",
   "metadata": {},
   "source": [
    "##### EX_25"
   ]
  },
  {
   "cell_type": "code",
   "execution_count": null,
   "metadata": {},
   "outputs": [],
   "source": [
    "class Aviao:\n",
    "    def __init__(self, modelo, velocidade_maxima, capacidade):\n",
    "        self.modelo = modelo\n",
    "        self.velocidade_maxima = velocidade_maxima\n",
    "        self.capacidade = capacidade\n",
    "        self.cor = \"Azul\"\n",
    "        \n",
    "    def __str__(self):\n",
    "        return f'O avião de modelo \"{self.modelo}\" possui uma velocidade máxima de {self.velocidade_maxima} km/h, capacidade para {self.capacidade} passageiros e é da cor {self.cor}.'\n",
    "\n",
    "avioes = [\n",
    "    Aviao(\"BOIENG456\", 1500, 400),\n",
    "    Aviao(\"Embraer Praetor 600\", 863, 14),\n",
    "    Aviao(\"Antonov An-2\", 258, 12)\n",
    "]\n",
    "\n",
    "for aviao in avioes:\n",
    "    print(aviao)"
   ]
  }
 ],
 "metadata": {
  "kernelspec": {
   "display_name": "Python 3",
   "language": "python",
   "name": "python3"
  },
  "language_info": {
   "name": "python",
   "version": "3.12.6"
  }
 },
 "nbformat": 4,
 "nbformat_minor": 2
}
