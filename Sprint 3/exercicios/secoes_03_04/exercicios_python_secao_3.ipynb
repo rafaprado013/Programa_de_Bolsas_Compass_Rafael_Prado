{
 "cells": [
  {
   "cell_type": "markdown",
   "metadata": {},
   "source": [
    "##### EX_01"
   ]
  },
  {
   "cell_type": "code",
   "execution_count": null,
   "metadata": {},
   "outputs": [],
   "source": [
    "nome = 'rafael'\n",
    "idade = 22\n",
    "ano_atual = 2024\n",
    "ano_100 = ano_atual + (100 - idade)\n",
    "print(ano_100)"
   ]
  },
  {
   "cell_type": "markdown",
   "metadata": {},
   "source": [
    "##### EX_02"
   ]
  },
  {
   "cell_type": "code",
   "execution_count": null,
   "metadata": {},
   "outputs": [],
   "source": [
    "numeros = []\n",
    "for x in range(1,4):\n",
    "    numeros.append(x)\n",
    "for numero in numeros:\n",
    "    if numero % 2 == 0:\n",
    "        print(f'Par: {numero}')\n",
    "    else:\n",
    "        print(f'Ímpar: {numero}')"
   ]
  },
  {
   "cell_type": "markdown",
   "metadata": {},
   "source": [
    "##### EX_03"
   ]
  },
  {
   "cell_type": "code",
   "execution_count": null,
   "metadata": {},
   "outputs": [],
   "source": [
    "for n in range(21):\n",
    "    if n % 2 == 0:\n",
    "        print(n)"
   ]
  },
  {
   "cell_type": "markdown",
   "metadata": {},
   "source": [
    "##### EX_04"
   ]
  },
  {
   "cell_type": "code",
   "execution_count": null,
   "metadata": {},
   "outputs": [],
   "source": [
    "for n in range(1, 101):\n",
    "    x = 0\n",
    "    for i in range(1, n + 1):\n",
    "        if n % i == 0:\n",
    "            x += 1\n",
    "    if x == 2:\n",
    "        print(n)"
   ]
  },
  {
   "cell_type": "markdown",
   "metadata": {},
   "source": [
    "##### EX_05"
   ]
  },
  {
   "cell_type": "code",
   "execution_count": null,
   "metadata": {},
   "outputs": [],
   "source": [
    "dia = 22\n",
    "mes = 10\n",
    "ano = 2022\n",
    "print(f'{dia}/{mes}/{ano}')"
   ]
  }
 ],
 "metadata": {
  "kernelspec": {
   "display_name": "Python 3",
   "language": "python",
   "name": "python3"
  },
  "language_info": {
   "name": "python",
   "version": "3.12.6"
  }
 },
 "nbformat": 4,
 "nbformat_minor": 2
}
