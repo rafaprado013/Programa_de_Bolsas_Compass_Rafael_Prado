{
 "cells": [
  {
   "cell_type": "markdown",
   "metadata": {},
   "source": [
    "##### Exercício 1"
   ]
  },
  {
   "cell_type": "code",
   "execution_count": 1,
   "metadata": {},
   "outputs": [
    {
     "name": "stdout",
     "output_type": "stream",
     "text": [
      "[8000, 7998, 7996, 7994, 7994]\n",
      "39982\n"
     ]
    }
   ],
   "source": [
    "with open('number.txt', 'r') as arquivo:\n",
    "    numeros = list(map(lambda linha: int(linha.strip()), arquivo))\n",
    "numeros_pares = filter(lambda x: x % 2 == 0, numeros)\n",
    "maiores_pares = sorted(numeros_pares, reverse=True)[:5]\n",
    "soma_maiores_pares = sum(maiores_pares)\n",
    "print(maiores_pares)\n",
    "print(soma_maiores_pares)\n"
   ]
  },
  {
   "cell_type": "markdown",
   "metadata": {},
   "source": [
    "##### Exercicio 2"
   ]
  },
  {
   "cell_type": "code",
   "execution_count": 2,
   "metadata": {},
   "outputs": [],
   "source": [
    "def conta_vogais(texto):\n",
    "    return len(list(filter(lambda x: x.lower() in 'aeiou', texto)))"
   ]
  },
  {
   "cell_type": "markdown",
   "metadata": {},
   "source": [
    "##### Exercicio 3"
   ]
  },
  {
   "cell_type": "code",
   "execution_count": 3,
   "metadata": {},
   "outputs": [],
   "source": [
    "from functools import reduce\n",
    "def calcula_saldo(lancamentos):\n",
    "    ajustar_valor = map(lambda lancamento: lancamento[0] if lancamento[1] == 'C' else -lancamento[0], lancamentos)\n",
    "    return reduce(lambda saldo, valor: saldo + valor, ajustar_valor)\n"
   ]
  },
  {
   "cell_type": "markdown",
   "metadata": {},
   "source": [
    "##### Exercicio 4"
   ]
  },
  {
   "cell_type": "code",
   "execution_count": 4,
   "metadata": {},
   "outputs": [],
   "source": [
    "def calcular_valor_maximo(operadores, operandos):\n",
    "    combinacoes = zip(operadores, operandos)\n",
    "    resultados = map(lambda comb: eval(f\"{comb[1][0]} {comb[0]} {comb[1][1]}\"), combinacoes)\n",
    "    return max(resultados)\n"
   ]
  },
  {
   "cell_type": "markdown",
   "metadata": {},
   "source": [
    "##### Exercicio 5"
   ]
  },
  {
   "cell_type": "code",
   "execution_count": 5,
   "metadata": {},
   "outputs": [
    {
     "name": "stdout",
     "output_type": "stream",
     "text": [
      "Nome: Alexandre da Rosa Notas: [10, 10, 8] Média: 9.33\n",
      "Nome: Ana Clara das Neves Notas: [7, 6, 6] Média: 6.33\n",
      "Nome: Ana GonÃ§alves Notas: [8, 3, 3] Média: 4.67\n",
      "Nome: Ana Julia Cavalcanti Notas: [10, 10, 9] Média: 9.67\n",
      "Nome: Ana VitÃ³ria Moraes Notas: [10, 6, 5] Média: 7.0\n",
      "Nome: AndrÃ© Mendes Notas: [6, 4, 4] Média: 4.67\n",
      "Nome: Beatriz Moreira Notas: [6, 4, 3] Média: 4.33\n",
      "Nome: Carolina da Mata Notas: [5, 5, 3] Média: 4.33\n",
      "Nome: Catarina Barros Notas: [10, 4, 3] Média: 5.67\n",
      "Nome: CauÃª FogaÃ§a Notas: [10, 5, 5] Média: 6.67\n",
      "Nome: CecÃ­lia Costa Notas: [9, 4, 4] Média: 5.67\n",
      "Nome: Clara da Rocha Notas: [9, 9, 7] Média: 8.33\n",
      "Nome: Davi Lucas Gomes Notas: [9, 8, 8] Média: 8.33\n",
      "Nome: Diogo AragÃ£o Notas: [7, 5, 5] Média: 5.67\n",
      "Nome: Dr. Pedro Henrique Rezende Notas: [10, 10, 3] Média: 7.67\n",
      "Nome: Dra. HeloÃ­sa Pinto Notas: [8, 6, 5] Média: 6.33\n",
      "Nome: Dra. Laura Pereira Notas: [6, 5, 3] Média: 4.67\n",
      "Nome: Enzo Melo Notas: [10, 10, 6] Média: 8.67\n",
      "Nome: Gabriel Novaes Notas: [10, 10, 8] Média: 9.33\n",
      "Nome: Gabriel da Rosa Notas: [3, 3, 2] Média: 2.67\n",
      "Nome: Heitor AragÃ£o Notas: [6, 6, 5] Média: 5.67\n",
      "Nome: Heitor Martins Notas: [10, 9, 6] Média: 8.33\n",
      "Nome: JoÃ£o Cardoso Notas: [10, 7, 5] Média: 7.33\n",
      "Nome: JoÃ£o Pedro Moura Notas: [5, 3, 3] Média: 3.67\n",
      "Nome: Leandro Rodrigues Notas: [7, 5, 4] Média: 5.33\n",
      "Nome: LetÃ­cia Jesus Notas: [6, 5, 5] Média: 5.33\n",
      "Nome: Luigi Pereira Notas: [9, 8, 8] Média: 8.33\n",
      "Nome: Maria Luiza Correia Notas: [7, 5, 5] Média: 5.67\n",
      "Nome: Maria Mendes Notas: [7, 3, 3] Média: 4.33\n",
      "Nome: Nicolas Campos Notas: [10, 8, 7] Média: 8.33\n",
      "Nome: Nina Viana Notas: [10, 9, 6] Média: 8.33\n",
      "Nome: Paulo da Rosa Notas: [5, 5, 5] Média: 5.0\n",
      "Nome: Pedro Castro Notas: [9, 8, 5] Média: 7.33\n",
      "Nome: Pedro Lucas AraÃºjo Notas: [9, 7, 3] Média: 6.33\n",
      "Nome: Rodrigo Jesus Notas: [10, 8, 8] Média: 8.67\n",
      "Nome: Ryan Nascimento Notas: [9, 6, 4] Média: 6.33\n",
      "Nome: Sr. Luiz OtÃ¡vio Cardoso Notas: [10, 10, 9] Média: 9.67\n",
      "Nome: Sra. Melissa da Cunha Notas: [10, 5, 3] Média: 6.0\n",
      "Nome: Srta. Carolina Almeida Notas: [10, 9, 2] Média: 7.0\n",
      "Nome: Thiago Silveira Notas: [7, 7, 4] Média: 6.0\n"
     ]
    }
   ],
   "source": [
    "import csv\n",
    "\n",
    "def processar_notas():\n",
    "    with open('estudantes.csv', 'r') as arquivo_csv:\n",
    "        ler_csv = csv.reader(arquivo_csv)\n",
    "        estudantes = []\n",
    "        for linha in ler_csv:\n",
    "            nome = linha[0]\n",
    "            notas = list(map(int, linha[1:]))\n",
    "            maiores_notas = sorted(notas, reverse=True)[:3]\n",
    "            media_geral = round(sum(maiores_notas) / 3, 2)\n",
    "            estudantes.append((nome, maiores_notas, media_geral))\n",
    "\n",
    "        estudantes_ordenados = sorted(estudantes, key=lambda x: x[0])\n",
    "        for estudante in estudantes_ordenados:\n",
    "            nome, maiores_notas, media_geral = estudante\n",
    "            print(f\"Nome: {nome} Notas: {maiores_notas} Média: {media_geral}\")\n",
    "\n",
    "processar_notas()"
   ]
  },
  {
   "cell_type": "markdown",
   "metadata": {},
   "source": [
    "##### Exercicio 6"
   ]
  },
  {
   "cell_type": "code",
   "execution_count": 6,
   "metadata": {},
   "outputs": [],
   "source": [
    "def maiores_que_media(conteudo):\n",
    "    media = sum(conteudo.values()) / len(conteudo)\n",
    "    produtos_acima_media = filter(lambda item: item[1] > media, conteudo.items())\n",
    "    return sorted(produtos_acima_media, key=lambda x: x[1])\n"
   ]
  },
  {
   "cell_type": "markdown",
   "metadata": {},
   "source": [
    "##### Exercicio 7"
   ]
  },
  {
   "cell_type": "code",
   "execution_count": 7,
   "metadata": {},
   "outputs": [],
   "source": [
    "def pares_ate(n: int):\n",
    "    for i in range(2, n + 1, 2):\n",
    "        yield i\n"
   ]
  }
 ],
 "metadata": {
  "kernelspec": {
   "display_name": "Python 3",
   "language": "python",
   "name": "python3"
  },
  "language_info": {
   "codemirror_mode": {
    "name": "ipython",
    "version": 3
   },
   "file_extension": ".py",
   "mimetype": "text/x-python",
   "name": "python",
   "nbconvert_exporter": "python",
   "pygments_lexer": "ipython3",
   "version": "3.12.7"
  }
 },
 "nbformat": 4,
 "nbformat_minor": 2
}
