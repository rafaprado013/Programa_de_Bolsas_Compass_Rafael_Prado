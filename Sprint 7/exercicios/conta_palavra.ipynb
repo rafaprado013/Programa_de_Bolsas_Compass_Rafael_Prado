{
 "cells": [
  {
   "cell_type": "markdown",
   "metadata": {},
   "source": [
    "### Importando o spark"
   ]
  },
  {
   "cell_type": "code",
   "execution_count": 5,
   "metadata": {},
   "outputs": [],
   "source": [
    "from pyspark.sql import SparkSession\n",
    "from pyspark.sql.functions import explode, split, length"
   ]
  },
  {
   "cell_type": "markdown",
   "metadata": {},
   "source": [
    "### Construindo Sessão"
   ]
  },
  {
   "cell_type": "code",
   "execution_count": 6,
   "metadata": {},
   "outputs": [],
   "source": [
    "spark = SparkSession.builder.appName(\"WordCount\").getOrCreate()"
   ]
  },
  {
   "cell_type": "markdown",
   "metadata": {},
   "source": [
    "### Carregando o readme para o dataframe"
   ]
  },
  {
   "cell_type": "code",
   "execution_count": 7,
   "metadata": {},
   "outputs": [],
   "source": [
    "readme = spark.read.text(\"../../Sprint 6/desafio/readme.md\")"
   ]
  },
  {
   "cell_type": "markdown",
   "metadata": {},
   "source": [
    "[](../../Sprint_6/desafios/README.md)"
   ]
  },
  {
   "cell_type": "markdown",
   "metadata": {},
   "source": [
    "### Codigos da contagem de palavras"
   ]
  },
  {
   "cell_type": "code",
   "execution_count": 8,
   "metadata": {},
   "outputs": [],
   "source": [
    " \n",
    "\n",
    "df_palavras = readme.select(explode(split(readme.value, \" \")).alias(\"palavra\"))\n",
    "palavras_contagem = df_palavras.groupBy(\"palavra\").count()"
   ]
  },
  {
   "cell_type": "code",
   "execution_count": 12,
   "metadata": {},
   "outputs": [],
   "source": [
    "# Dividir a coluna 'value' em palavras e explodir para ter uma palavra por linha\n",
    "df_palavras = readme.select(explode(split(readme.value, \" \")).alias(\"palavra\"))\n",
    "\n",
    "# Filtrar palavras vazias e palavras com 2 ou menos caracteres\n",
    "df_palavras = df_palavras.filter((df_palavras[\"palavra\"] != \"\") & (length(df_palavras[\"palavra\"]) > 2))\n",
    "\n",
    "# Contar as repetições e renomear a coluna 'count' para 'repetições'\n",
    "palavras_contagem = df_palavras.groupBy(\"palavra\").count()\n",
    "\n",
    "# Renomear a coluna 'count' para 'repetições'\n",
    "palavras_contagem = palavras_contagem.withColumnRenamed(\"count\", \"repetições\")\n",
    "\n",
    "# Organizar do maior para o menor\n",
    "palavras_contagem_ordenadas = palavras_contagem.orderBy(\"repetições\", ascending=False)\n"
   ]
  },
  {
   "cell_type": "markdown",
   "metadata": {},
   "source": [
    "### Exibição do resultado"
   ]
  },
  {
   "cell_type": "code",
   "execution_count": 13,
   "metadata": {},
   "outputs": [
    {
     "name": "stdout",
     "output_type": "stream",
     "text": [
      "+----------+----------+\n",
      "|   palavra|repetições|\n",
      "+----------+----------+\n",
      "|      para|        19|\n",
      "|       com|        11|\n",
      "|       que|         9|\n",
      "|       dos|         9|\n",
      "|  arquivos|         8|\n",
      "|   caminho|         6|\n",
      "|   arquivo|         5|\n",
      "|    upload|         4|\n",
      "|movies.csv|         4|\n",
      "|   comando|         4|\n",
      "|       S3.|         4|\n",
      "|    filmes|         4|\n",
      "|       uma|         4|\n",
      "|       ###|         4|\n",
      "|series.csv|         4|\n",
      "| contêiner|         4|\n",
      "|    `\"COPY|         3|\n",
      "|  ambiente|         3|\n",
      "| estrutura|         3|\n",
      "|       faz|         3|\n",
      "+----------+----------+\n",
      "only showing top 20 rows\n",
      "\n"
     ]
    }
   ],
   "source": [
    "palavras_contagem_ordenadas.show()"
   ]
  }
 ],
 "metadata": {
  "kernelspec": {
   "display_name": "Python 3",
   "language": "python",
   "name": "python3"
  },
  "language_info": {
   "codemirror_mode": {
    "name": "ipython",
    "version": 3
   },
   "file_extension": ".py",
   "mimetype": "text/x-python",
   "name": "python",
   "nbconvert_exporter": "python",
   "pygments_lexer": "ipython3",
   "version": "3.12.7"
  }
 },
 "nbformat": 4,
 "nbformat_minor": 2
}
