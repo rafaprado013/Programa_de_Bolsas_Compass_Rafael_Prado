{
 "cells": [
  {
   "cell_type": "markdown",
   "metadata": {},
   "source": [
    "### Exercício Geração de Dados Em Massa"
   ]
  },
  {
   "cell_type": "markdown",
   "metadata": {},
   "source": [
    "#### Etapa 1"
   ]
  },
  {
   "cell_type": "code",
   "execution_count": 4,
   "metadata": {},
   "outputs": [
    {
     "name": "stdout",
     "output_type": "stream",
     "text": [
      "10 primeiros números da lista: [101, 854, 170, 913, 327, 725, 336, 843, 851, 190]\n"
     ]
    }
   ],
   "source": [
    "import random\n",
    "\n",
    "inteiros = [random.randint(1, 1000) for _n in range(250)]\n",
    "print(\"10 primeiros números da lista:\", inteiros[:10])\n"
   ]
  },
  {
   "cell_type": "markdown",
   "metadata": {},
   "source": [
    "#### Etapa 2"
   ]
  },
  {
   "cell_type": "code",
   "execution_count": 7,
   "metadata": {},
   "outputs": [
    {
     "name": "stdout",
     "output_type": "stream",
     "text": [
      "Animais em ordem alfabética:\n",
      "- Cachorro\n",
      "- Camelo\n",
      "- Cavalo\n",
      "- Cervo\n",
      "- Elefante\n",
      "- Gato\n",
      "- Girafa\n",
      "- Golfinho\n",
      "- Jacaré\n",
      "- Leão\n",
      "- Lobo\n",
      "- Macaco\n",
      "- Papagaio\n",
      "- Pinguim\n",
      "- Rinoceronte\n",
      "- Tartaruga\n",
      "- Tigre\n",
      "- Tubarão\n",
      "- Urso\n",
      "- Águia\n"
     ]
    }
   ],
   "source": [
    "import os\n",
    "\n",
    "animais = [\n",
    "    \"Leão\", \"Elefante\", \"Tigre\", \"Girafa\", \"Cachorro\",\n",
    "    \"Gato\", \"Cavalo\", \"Papagaio\", \"Jacaré\", \"Tartaruga\",\n",
    "    \"Águia\", \"Urso\", \"Lobo\", \"Camelo\", \"Macaco\",\n",
    "    \"Pinguim\", \"Golfinho\", \"Tubarão\", \"Rinoceronte\", \"Cervo\"\n",
    "]\n",
    "\n",
    "animais_ordenados = sorted(animais)\n",
    "\n",
    "print(\"Animais em ordem alfabética:\")\n",
    "for animal in animais_ordenados:\n",
    "    print(f\"- {animal}\")\n",
    "\n",
    "\n",
    "nome_arquivo = \"animais.csv\"\n",
    "with open(nome_arquivo, \"w\", encoding=\"utf-8\") as arquivo:\n",
    "\n",
    "    for animal in animais_ordenados:\n",
    "        arquivo.write(animal + \"\\n\")\n"
   ]
  },
  {
   "cell_type": "markdown",
   "metadata": {},
   "source": [
    "#### Etapa 3"
   ]
  },
  {
   "cell_type": "code",
   "execution_count": 22,
   "metadata": {},
   "outputs": [
    {
     "name": "stdout",
     "output_type": "stream",
     "text": [
      "Gerando lista de nomes únicos...\n",
      "Quantidade de nomes únicos gerados: 3000\n",
      "Gerando 10000000 nomes aleatórios...\n",
      "Salvando os nomes aleatórios no arquivo 'nomes_aleatorios.txt'...\n",
      "Arquivo 'nomes_aleatorios.txt' gerado com sucesso!\n"
     ]
    }
   ],
   "source": [
    "import random\n",
    "import names  \n",
    "import time\n",
    "\n",
    "random.seed(40)\n",
    "\n",
    "\n",
    "qtd_nomes_unicos = 3000\n",
    "qtd_nomes_aleatorios = 10000000\n",
    "\n",
    "\n",
    "print(\"Gerando lista de nomes únicos...\")\n",
    "nomes_unicos = set()\n",
    "while len(nomes_unicos) < qtd_nomes_unicos:\n",
    "    nomes_unicos.add(names.get_full_name())\n",
    "\n",
    "nomes_unicos = sorted(list(nomes_unicos))\n",
    "print(f\"Quantidade de nomes únicos gerados: {len(nomes_unicos)}\")\n",
    "\n",
    "print(f\"Gerando {qtd_nomes_aleatorios} nomes aleatórios...\")\n",
    "nomes_aleatorios = [random.choice(nomes_unicos) for _ in range(qtd_nomes_aleatorios)]\n",
    "\n",
    "nome_arquivo = \"nomes_aleatorios.txt\"\n",
    "print(f\"Salvando os nomes aleatórios no arquivo '{nome_arquivo}'...\")\n",
    "with open(nome_arquivo, \"w\", encoding=\"utf-8\") as arquivo:\n",
    "    for nome in nomes_aleatorios:\n",
    "        arquivo.write(nome + \"\\n\")\n",
    "\n",
    "print(f\"Arquivo '{nome_arquivo}' gerado com sucesso!\")\n"
   ]
  },
  {
   "cell_type": "markdown",
   "metadata": {},
   "source": [
    "### Exercício PySpark"
   ]
  },
  {
   "cell_type": "markdown",
   "metadata": {},
   "source": [
    "#### Códigos iniciais"
   ]
  },
  {
   "cell_type": "code",
   "execution_count": 8,
   "metadata": {},
   "outputs": [],
   "source": [
    "from pyspark.sql import SparkSession\n",
    "from pyspark.sql import functions as F\n",
    "\n",
    "# Configuração do Spark\n",
    "spark = SparkSession.builder.master(\"local[*]\").appName(\"Exercicio Intro\").getOrCreate()\n",
    "\n",
    "# Ler o arquivo CSV no DataFrame\n",
    "arquivo_nomes = \"nomes_aleatorios.txt\" \n",
    "df_nomes = spark.read.csv(arquivo_nomes, header=False, inferSchema=True)\n",
    "\n",
    "# Renomear a coluna para \"Nomes\"\n",
    "df_nomes = df_nomes.withColumnRenamed(\"_c0\", \"Nomes\")\n",
    "\n",
    "# Adicionar a coluna 'AnoNascimento' com valores aleatórios entre 1945 e 2010\n",
    "df_nomes = df_nomes.withColumn(\n",
    "    \"AnoNascimento\", \n",
    "    (F.floor(F.rand() * (2010 - 1945 + 1)) + 1945)\n",
    ")\n"
   ]
  },
  {
   "cell_type": "markdown",
   "metadata": {},
   "source": [
    "#### Etapa 1: Mostrar as primeiras 5 linhas do DataFrame"
   ]
  },
  {
   "cell_type": "code",
   "execution_count": 23,
   "metadata": {},
   "outputs": [
    {
     "name": "stdout",
     "output_type": "stream",
     "text": [
      "+----------------+-------------+------------+--------+---------+\n",
      "|           Nomes|AnoNascimento|Escolaridade|    Pais|  Geracao|\n",
      "+----------------+-------------+------------+--------+---------+\n",
      "|Harrison Spencer|         1974|    Superior|  Brasil|Geração X|\n",
      "|  Melissa Sobers|         2002| Fundamental|    Peru|Geração Z|\n",
      "|   Werner Arnold|         1995|       Medio| Uruguai|Geração Z|\n",
      "|     Terry Scott|         2004| Fundamental|   Chile|Geração Z|\n",
      "|    Anna Leblanc|         1973|    Superior|Colômbia|Geração X|\n",
      "+----------------+-------------+------------+--------+---------+\n",
      "only showing top 5 rows\n",
      "\n"
     ]
    }
   ],
   "source": [
    "# Etapa 1: Mostrar as primeiras 5 linhas do DataFrame\n",
    "df_nomes.show(5)"
   ]
  },
  {
   "cell_type": "markdown",
   "metadata": {},
   "source": [
    "#### Etapa 2: Imprimir o schema do DataFrame e renomear a coluna"
   ]
  },
  {
   "cell_type": "code",
   "execution_count": 24,
   "metadata": {},
   "outputs": [
    {
     "name": "stdout",
     "output_type": "stream",
     "text": [
      "root\n",
      " |-- Nomes: string (nullable = true)\n",
      " |-- AnoNascimento: long (nullable = true)\n",
      " |-- Escolaridade: string (nullable = false)\n",
      " |-- Pais: string (nullable = false)\n",
      " |-- Geracao: string (nullable = false)\n",
      "\n"
     ]
    }
   ],
   "source": [
    "df_nomes.printSchema()"
   ]
  },
  {
   "cell_type": "markdown",
   "metadata": {},
   "source": [
    "#### Etapa 3: Adicionar coluna 'Escolaridade' com valores aleatórios"
   ]
  },
  {
   "cell_type": "code",
   "execution_count": null,
   "metadata": {},
   "outputs": [],
   "source": [
    "escolaridades = [\"Fundamental\", \"Medio\", \"Superior\"]\n",
    "df_nomes = df_nomes.withColumn(\n",
    "    \"Escolaridade\", \n",
    "    F.when(F.rand() < 0.33, \"Fundamental\")\n",
    "    .when((F.rand() >= 0.33) & (F.rand() < 0.66), \"Medio\")\n",
    "    .otherwise(\"Superior\")\n",
    ")"
   ]
  },
  {
   "cell_type": "markdown",
   "metadata": {},
   "source": [
    "#### Etapa 4: Adicionar coluna 'Pais' com valores aleatórios de países da América do Sul"
   ]
  },
  {
   "cell_type": "code",
   "execution_count": 26,
   "metadata": {},
   "outputs": [],
   "source": [
    "paises_sul_america = [\"Argentina\", \"Brasil\", \"Chile\", \"Colômbia\", \"Peru\", \"Paraguai\", \"Uruguai\", \"Equador\", \"Bolívia\", \"Venezuela\", \"Suriname\", \"Guiana\", \"Guiana Francesa\"]\n",
    "df_nomes = df_nomes.withColumn(\n",
    "    \"Pais\", \n",
    "    F.when(F.rand() < 0.077, \"Argentina\")\n",
    "    .when((F.rand() >= 0.077) & (F.rand() < 0.154), \"Brasil\")\n",
    "    .when((F.rand() >= 0.154) & (F.rand() < 0.231), \"Chile\")\n",
    "    .when((F.rand() >= 0.231) & (F.rand() < 0.308), \"Colômbia\")\n",
    "    .when((F.rand() >= 0.308) & (F.rand() < 0.385), \"Peru\")\n",
    "    .when((F.rand() >= 0.385) & (F.rand() < 0.462), \"Paraguai\")\n",
    "    .when((F.rand() >= 0.462) & (F.rand() < 0.539), \"Uruguai\")\n",
    "    .when((F.rand() >= 0.539) & (F.rand() < 0.616), \"Equador\")\n",
    "    .when((F.rand() >= 0.616) & (F.rand() < 0.693), \"Bolívia\")\n",
    "    .when((F.rand() >= 0.693) & (F.rand() < 0.77), \"Venezuela\")\n",
    "    .when((F.rand() >= 0.77) & (F.rand() < 0.847), \"Suriname\")\n",
    "    .when((F.rand() >= 0.847) & (F.rand() < 0.924), \"Guiana\")\n",
    "    .otherwise(\"Guiana Francesa\")\n",
    ")"
   ]
  },
  {
   "cell_type": "markdown",
   "metadata": {},
   "source": [
    "#### Etapa 5: Adicionar coluna 'AnoNascimento' com valores aleatórios entre 1945 e 2010"
   ]
  },
  {
   "cell_type": "code",
   "execution_count": 27,
   "metadata": {},
   "outputs": [],
   "source": [
    "df_nomes = df_nomes.withColumn(\n",
    "    \"AnoNascimento\", \n",
    "    (F.floor(F.rand() * (2010 - 1945 + 1)) + 1945)\n",
    ")"
   ]
  },
  {
   "cell_type": "markdown",
   "metadata": {},
   "source": [
    "#### Etapa 6: Filtrar pessoas que nasceram neste século (2001 - 2100)"
   ]
  },
  {
   "cell_type": "code",
   "execution_count": 28,
   "metadata": {},
   "outputs": [
    {
     "name": "stdout",
     "output_type": "stream",
     "text": [
      "+-----------------+-------------+------------+---------------+------------+\n",
      "|            Nomes|AnoNascimento|Escolaridade|           Pais|     Geracao|\n",
      "+-----------------+-------------+------------+---------------+------------+\n",
      "|     Mary Salazar|         2003|       Medio|       Paraguai|   Geração X|\n",
      "|    Cletus Hilton|         2009|       Medio|          Chile| Millennials|\n",
      "|    Robert Venkus|         2006| Fundamental|        Equador|   Geração Z|\n",
      "|     Aaron Gering|         2006|    Superior|       Paraguai|Baby Boomers|\n",
      "|  Kathy Hillhouse|         2007|       Medio|        Uruguai| Millennials|\n",
      "|    Timothy Wolfe|         2009|       Medio|       Paraguai|   Geração Z|\n",
      "|Salvador Medovich|         2005| Fundamental|           Peru|   Geração Z|\n",
      "|    Linda Menzies|         2002|    Superior|Guiana Francesa| Millennials|\n",
      "|    Ashley Howery|         2009| Fundamental|           Peru| Millennials|\n",
      "|     Joan Huseman|         2001| Fundamental|       Colômbia|Baby Boomers|\n",
      "+-----------------+-------------+------------+---------------+------------+\n",
      "only showing top 10 rows\n",
      "\n"
     ]
    }
   ],
   "source": [
    "df_select = df_nomes.filter(df_nomes.AnoNascimento >= 2001)\n",
    "df_select.show(10)"
   ]
  },
  {
   "cell_type": "markdown",
   "metadata": {},
   "source": [
    "#### Etapa 7: Usar Spark SQL para obter as pessoas que nasceram neste século"
   ]
  },
  {
   "cell_type": "code",
   "execution_count": 29,
   "metadata": {},
   "outputs": [
    {
     "name": "stdout",
     "output_type": "stream",
     "text": [
      "+-----------------+-------------+------------+---------------+------------+\n",
      "|            Nomes|AnoNascimento|Escolaridade|           Pais|     Geracao|\n",
      "+-----------------+-------------+------------+---------------+------------+\n",
      "|     Mary Salazar|         2003|       Medio|       Paraguai|   Geração X|\n",
      "|    Cletus Hilton|         2009|       Medio|          Chile| Millennials|\n",
      "|    Robert Venkus|         2006| Fundamental|        Equador|   Geração Z|\n",
      "|     Aaron Gering|         2006|    Superior|       Paraguai|Baby Boomers|\n",
      "|  Kathy Hillhouse|         2007|       Medio|        Uruguai| Millennials|\n",
      "|    Timothy Wolfe|         2009|       Medio|       Paraguai|   Geração Z|\n",
      "|Salvador Medovich|         2005| Fundamental|           Peru|   Geração Z|\n",
      "|    Linda Menzies|         2002|    Superior|Guiana Francesa| Millennials|\n",
      "|    Ashley Howery|         2009| Fundamental|           Peru| Millennials|\n",
      "|     Joan Huseman|         2001| Fundamental|       Colômbia|Baby Boomers|\n",
      "+-----------------+-------------+------------+---------------+------------+\n",
      "only showing top 10 rows\n",
      "\n"
     ]
    }
   ],
   "source": [
    "df_nomes.createOrReplaceTempView(\"pessoas\")\n",
    "resultado_sql_seculo = spark.sql(\"\"\"\n",
    "    SELECT * \n",
    "    FROM pessoas \n",
    "    WHERE AnoNascimento >= 2001\n",
    "\"\"\")\n",
    "resultado_sql_seculo.show(10)"
   ]
  },
  {
   "cell_type": "markdown",
   "metadata": {},
   "source": [
    "##### Etapa 8: Contar o número de pessoas da geração Millennials (1980 - 1994) utilizando filter\n"
   ]
  },
  {
   "cell_type": "code",
   "execution_count": 30,
   "metadata": {},
   "outputs": [
    {
     "name": "stdout",
     "output_type": "stream",
     "text": [
      "Número de pessoas da geração Millennials: 2272239\n"
     ]
    }
   ],
   "source": [
    "millennials = df_nomes.filter((df_nomes.AnoNascimento >= 1980) & (df_nomes.AnoNascimento <= 1994))\n",
    "print(f\"Número de pessoas da geração Millennials: {millennials.count()}\")"
   ]
  },
  {
   "cell_type": "markdown",
   "metadata": {},
   "source": [
    "#### Etapa 9: Usar Spark SQL para contar pessoas da geração Millennials\n"
   ]
  },
  {
   "cell_type": "code",
   "execution_count": 31,
   "metadata": {},
   "outputs": [
    {
     "name": "stdout",
     "output_type": "stream",
     "text": [
      "+---------------+\n",
      "|num_millennials|\n",
      "+---------------+\n",
      "|        2272239|\n",
      "+---------------+\n",
      "\n"
     ]
    }
   ],
   "source": [
    "resultado_sql_millennials = spark.sql(\"\"\"\n",
    "    SELECT COUNT(*) AS num_millennials \n",
    "    FROM pessoas \n",
    "    WHERE AnoNascimento >= 1980 AND AnoNascimento <= 1994\n",
    "\"\"\")\n",
    "resultado_sql_millennials.show()"
   ]
  },
  {
   "cell_type": "markdown",
   "metadata": {},
   "source": [
    "#### Etapa 10: Adicionar a coluna 'Geracao' e contar as pessoas de cada país por geração\n"
   ]
  },
  {
   "cell_type": "code",
   "execution_count": 32,
   "metadata": {},
   "outputs": [
    {
     "name": "stdout",
     "output_type": "stream",
     "text": [
      "+---------+------------+----------+\n",
      "|     Pais|     Geracao|Quantidade|\n",
      "+---------+------------+----------+\n",
      "|Argentina|Baby Boomers|    233570|\n",
      "|Argentina|   Geração X|    175774|\n",
      "|Argentina|   Geração Z|    186436|\n",
      "|Argentina| Millennials|    174560|\n",
      "|  Bolívia|Baby Boomers|    104491|\n",
      "|  Bolívia|   Geração X|     78216|\n",
      "|  Bolívia|   Geração Z|     83629|\n",
      "|  Bolívia| Millennials|     77552|\n",
      "|   Brasil|Baby Boomers|    396992|\n",
      "|   Brasil|   Geração X|    296972|\n",
      "|   Brasil|   Geração Z|    318083|\n",
      "|   Brasil| Millennials|    298964|\n",
      "|    Chile|Baby Boomers|    468994|\n",
      "|    Chile|   Geração X|    351033|\n",
      "|    Chile|   Geração Z|    374208|\n",
      "|    Chile| Millennials|    351619|\n",
      "| Colômbia|Baby Boomers|    458283|\n",
      "| Colômbia|   Geração X|    343120|\n",
      "| Colômbia|   Geração Z|    366742|\n",
      "| Colômbia| Millennials|    343018|\n",
      "+---------+------------+----------+\n",
      "only showing top 20 rows\n",
      "\n"
     ]
    }
   ],
   "source": [
    "\n",
    "df_nomes = df_nomes.withColumn(\n",
    "    \"Geracao\",\n",
    "    F.when((df_nomes.AnoNascimento >= 1944) & (df_nomes.AnoNascimento <= 1964), \"Baby Boomers\")\n",
    "    .when((df_nomes.AnoNascimento >= 1965) & (df_nomes.AnoNascimento <= 1979), \"Geração X\")\n",
    "    .when((df_nomes.AnoNascimento >= 1980) & (df_nomes.AnoNascimento <= 1994), \"Millennials\")\n",
    "    .when((df_nomes.AnoNascimento >= 1995) & (df_nomes.AnoNascimento <= 2015), \"Geração Z\")\n",
    "    .otherwise(\"Desconhecido\")\n",
    ")\n",
    "\n",
    "df_nomes.createOrReplaceTempView(\"pessoas_com_geracao\")\n",
    "\n",
    "resultado_geracoes = spark.sql(\"\"\"\n",
    "    SELECT Pais, Geracao, COUNT(*) AS Quantidade\n",
    "    FROM pessoas_com_geracao\n",
    "    GROUP BY Pais, Geracao\n",
    "    ORDER BY Pais, Geracao, Quantidade\n",
    "\"\"\")\n",
    "resultado_geracoes.show()"
   ]
  }
 ],
 "metadata": {
  "kernelspec": {
   "display_name": "Python 3",
   "language": "python",
   "name": "python3"
  },
  "language_info": {
   "codemirror_mode": {
    "name": "ipython",
    "version": 3
   },
   "file_extension": ".py",
   "mimetype": "text/x-python",
   "name": "python",
   "nbconvert_exporter": "python",
   "pygments_lexer": "ipython3",
   "version": "3.12.7"
  }
 },
 "nbformat": 4,
 "nbformat_minor": 2
}
